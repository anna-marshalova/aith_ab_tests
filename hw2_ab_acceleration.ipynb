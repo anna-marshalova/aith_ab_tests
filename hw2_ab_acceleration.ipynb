{
 "cells": [
  {
   "cell_type": "markdown",
   "metadata": {
    "id": "4J9o80bN6bhq"
   },
   "source": [
    "# Ускорение AB тестов:\n",
    "\n",
    "1. Применить ранговую трансформацию (потом t-test) и сравнить с результатами по Манну-Уитни на:\n",
    "- метрике cart_added_cnt (5 баллов)\n",
    "\n",
    "2. Реализовать cuped-трансформацию и сравнить мощность t-критерия на:\n",
    "- обычной метрике cart_added_cnt (5 баллов)\n",
    "- логарфимированной метрике cart_added_cnt (5 баллов)\n",
    "- метрике cart_added_cnt (а после подвергнуть ранговому преобразованию) (5 баллов)\n",
    "\n",
    "\n",
    "В каждом случае фиксировать, на сколько сокращается дисперсия, проверять равны ли средние в группах в ковариате и совпадают ли средние в метрике до и после применения cuped\n",
    "(+ 5 балла за обьяснения и выводы)\n",
    "\n",
    "\n",
    "3. Реализовать разбивку на бакеты, оценить t-критерием и сравнить с результатом без бакетирования:\n",
    "- на логнормальном распределении (сгенерированные данные) (5 баллов)\n",
    "- на метрике cart_added_cnt (5 баллов)\n",
    "\n",
    "\n",
    "4. Реализовать постстратификацию на данных shop_metrics_old для метрики cart_added_cnt:\n",
    "- на сочетании пола и возраста (возраст разбить на подгруппы: 18-24, 25-45, 46-60, 61-75, 76+) (5 баллов)\n",
    "подсчитать результаты для случая без постстратификации и с постстратификацией\n",
    "- проверить мощность и корректность t-критерия для постстратифицированного случая (5 баллов)\n",
    "\n",
    "\n",
    "(+ 5 балла за обьяснения и выводы)"
   ]
  },
  {
   "cell_type": "code",
   "execution_count": 3,
   "metadata": {},
   "outputs": [],
   "source": [
    "import os\n",
    "import numpy as np\n",
    "import scipy.stats as stats\n",
    "import pandas as pd\n",
    "\n",
    "import matplotlib.pyplot as plt\n",
    "import seaborn as sns\n",
    "\n",
    "from tqdm.notebook import tqdm\n",
    "import hashlib\n",
    "from base64 import b64encode\n",
    "import warnings"
   ]
  },
  {
   "cell_type": "code",
   "execution_count": 144,
   "metadata": {},
   "outputs": [],
   "source": [
    "warnings.filterwarnings(\"ignore\")"
   ]
  },
  {
   "cell_type": "code",
   "execution_count": 8,
   "metadata": {
    "id": "Y41Q7rXb6h7c"
   },
   "outputs": [],
   "source": [
    "PATH = \"\"\n",
    "shop_metrics_new = pd.read_csv(PATH + 'shop_df_metrics_dec.csv').drop(columns='Unnamed: 0')\n",
    "shop_metrics_old = pd.read_csv(PATH + 'shop_df_metrics_sept.csv').drop(columns='Unnamed: 0')\n",
    "shop_users_info = pd.read_csv('shop_df_users.csv').drop(columns='Unnamed: 0')"
   ]
  },
  {
   "cell_type": "markdown",
   "metadata": {
    "id": "Ch2zdbsV6fi6"
   },
   "source": [
    "# 1. Применить ранговую трансформацию (потом t-test) и сравнить с результатами по Манну-Уитни:"
   ]
  },
  {
   "cell_type": "code",
   "execution_count": 4,
   "metadata": {},
   "outputs": [],
   "source": [
    "def rank_transformation(df_a, df_b, metric):\n",
    "    df = pd.concat([df_a, df_b], axis = 0)\n",
    "    df['rank'] = df[metric].rank()\n",
    "\n",
    "    return df"
   ]
  },
  {
   "cell_type": "code",
   "execution_count": 5,
   "metadata": {},
   "outputs": [],
   "source": [
    "def salt_generator(salt=None):\n",
    "    salt = os.urandom(8)\n",
    "    return b64encode(salt).decode('ascii')"
   ]
  },
  {
   "cell_type": "code",
   "execution_count": 6,
   "metadata": {},
   "outputs": [],
   "source": [
    "def groups_splitter(df, user_salt=None):\n",
    "\n",
    "    if user_salt == None:\n",
    "        salt = salt_generator()\n",
    "    else:\n",
    "        salt = user_salt\n",
    "\n",
    "    df['hash'] = ((df['user_id'].astype(str)) + '#' + salt).apply(lambda x: hashlib.sha256(x.encode('utf-8')).hexdigest())\n",
    "\n",
    "    df['group'] = ((df['hash'].str.slice(start=-6).apply(int, base=16) % 2).map(lambda x: 'A' if x == 0 else 'B'))\n",
    "\n",
    "    return df[['user_id', 'group']].drop_duplicates()"
   ]
  },
  {
   "cell_type": "code",
   "execution_count": 26,
   "metadata": {},
   "outputs": [],
   "source": [
    "def compute_power_correctness(df, metric, test_fn, effect=0.05, n=100):\n",
    "    correctness = []\n",
    "    power = []\n",
    "    \n",
    "    shop = df.drop(columns=['group'])\n",
    "    \n",
    "    for i in tqdm(range(n)):\n",
    "        new_group = groups_splitter(shop.copy(), user_salt=salt_generator())\n",
    "        new_df = pd.merge(shop, new_group, how=\"left\", on=['user_id']).drop_duplicates()\n",
    "        \n",
    "        vec_a = new_df[(new_df['group'] == 'A')][metric]\n",
    "        vec_b = new_df[(new_df['group'] == 'B')][metric]\n",
    "        vec_b_effect = vec_b * (1 + effect)\n",
    "        p_cor, p_power = test_fn(vec_a, vec_b)[1], test_fn(vec_a, vec_b_effect)[1]\n",
    "        correctness.append(p_cor)\n",
    "        power.append(p_power)\n",
    "        \n",
    "    correctness = np.array(correctness)\n",
    "    \n",
    "    sns.set(rc={'figure.figsize':(4.7,4.27)})\n",
    "    sns.histplot(data=correctness, bins=10, color='brown', kde=True)\n",
    "    \n",
    "    correctness_value = (1 - (correctness[correctness < 0.05].shape[0] / correctness.shape[0]))\n",
    "    \n",
    "    \n",
    "    power = np.array(power)\n",
    "    power_value = (power[power < 0.05].shape[0] / power.shape[0])\n",
    "\n",
    "    \n",
    "    print(f'CORRECTNESS: {correctness_value * 100}%% ')\n",
    "    print()\n",
    "    print(f'POWER: {power_value * 100}%')"
   ]
  },
  {
   "cell_type": "markdown",
   "metadata": {
    "id": "uSFpMzZ77uRL"
   },
   "source": [
    "**Метрика cart_added_cnt (5 баллов)**"
   ]
  },
  {
   "cell_type": "code",
   "execution_count": 9,
   "metadata": {},
   "outputs": [],
   "source": [
    "ranked = rank_transformation(shop_metrics_new[shop_metrics_new.group == 'A'],\n",
    "                             shop_metrics_new[shop_metrics_new.group == 'B'], 'cart_added_cnt')"
   ]
  },
  {
   "cell_type": "code",
   "execution_count": 23,
   "metadata": {},
   "outputs": [
    {
     "data": {
      "application/vnd.jupyter.widget-view+json": {
       "model_id": "b83df4323d7f4d4994e459bad7373c54",
       "version_major": 2,
       "version_minor": 0
      },
      "text/plain": [
       "  0%|          | 0/100 [00:00<?, ?it/s]"
      ]
     },
     "metadata": {},
     "output_type": "display_data"
    },
    {
     "name": "stdout",
     "output_type": "stream",
     "text": [
      "CORRECTNESS: 99.0%% \n",
      "\n",
      "POWER: 100.0%\n"
     ]
    },
    {
     "data": {
      "image/png": "[encoded data removed]",
      "text/plain": [
       "<Figure size 470x427 with 1 Axes>"
      ]
     },
     "metadata": {},
     "output_type": "display_data"
    }
   ],
   "source": [
    "compute_power_correctness(ranked, 'rank', stats.ttest_ind)"
   ]
  },
  {
   "cell_type": "code",
   "execution_count": 27,
   "metadata": {},
   "outputs": [
    {
     "data": {
      "application/vnd.jupyter.widget-view+json": {
       "model_id": "8fc6c11aef9e4ee9b17d2a9548c12664",
       "version_major": 2,
       "version_minor": 0
      },
      "text/plain": [
       "  0%|          | 0/100 [00:00<?, ?it/s]"
      ]
     },
     "metadata": {},
     "output_type": "display_data"
    },
    {
     "name": "stdout",
     "output_type": "stream",
     "text": [
      "CORRECTNESS: 97.0%% \n",
      "\n",
      "POWER: 100.0%\n"
     ]
    },
    {
     "data": {
      "image/png": "[encoded data removed]",
      "text/plain": [
       "<Figure size 470x427 with 1 Axes>"
      ]
     },
     "metadata": {},
     "output_type": "display_data"
    }
   ],
   "source": [
    "compute_power_correctness(shop_metrics_new, 'cart_added_cnt', stats.mannwhitneyu)"
   ]
  },
  {
   "cell_type": "markdown",
   "metadata": {},
   "source": [
    "У обоих тестов высокая мощность, однако у теста с ранговой трансформацией более высокая корректность."
   ]
  },
  {
   "cell_type": "code",
   "execution_count": 15,
   "metadata": {},
   "outputs": [
    {
     "data": {
      "text/plain": [
       "TtestResult(statistic=-1.2743727811526857, pvalue=0.20253266477504916, df=222519.0)"
      ]
     },
     "execution_count": 15,
     "metadata": {},
     "output_type": "execute_result"
    }
   ],
   "source": [
    "stats.ttest_ind(ranked[ranked.group == 'A']['rank'], ranked[ranked.group == 'B']['rank'])"
   ]
  },
  {
   "cell_type": "code",
   "execution_count": 17,
   "metadata": {
    "id": "6rpFTJoN53j3"
   },
   "outputs": [
    {
     "data": {
      "text/plain": [
       "MannwhitneyuResult(statistic=6179368188.5, pvalue=0.2025319893087626)"
      ]
     },
     "execution_count": 17,
     "metadata": {},
     "output_type": "execute_result"
    }
   ],
   "source": [
    "stats.mannwhitneyu(shop_metrics_new[shop_metrics_new.group == 'A']['cart_added_cnt'],\n",
    "                   shop_metrics_new[shop_metrics_new.group == 'B']['cart_added_cnt'])"
   ]
  },
  {
   "cell_type": "markdown",
   "metadata": {
    "id": "DPGQIOo16vq1"
   },
   "source": [
    "В обоих случаях p-value получилось почти одинаковым: примерно 0.2. Это означает, что статичтически значимых различий в метрике cart_added_cnt между группами нет.\n",
    "\n",
    "Тот факт, что результаты двух тестов получились похожими, ожидаем, так как оба метода работают с ранговыми данными."
   ]
  },
  {
   "cell_type": "markdown",
   "metadata": {},
   "source": [
    "**Вывод:** t-тест с ранговой трансформация обоадает более высокой корректностью, чем тест Манна-Уитни, но в целом такие тесты дают схожие результаты."
   ]
  },
  {
   "cell_type": "markdown",
   "metadata": {
    "id": "EGploKCH61TN"
   },
   "source": [
    "# **2. Реализовать cuped-трансформацию и сравнить мощность t-критерия**:"
   ]
  },
  {
   "cell_type": "markdown",
   "metadata": {
    "id": "xwxiQeQb683K"
   },
   "source": [
    "**обычная метрика cart_added_cnt (5 баллов)**"
   ]
  },
  {
   "cell_type": "code",
   "execution_count": 142,
   "metadata": {
    "id": "DKiXScHe7BqR"
   },
   "outputs": [],
   "source": [
    "def cuped_transform(df, metrics):\n",
    "\n",
    "    new_columns = [str(m+'_cuped') for m in metrics]\n",
    "    df[new_columns] = pd.DataFrame([[0] * len(new_columns)], index=df.index)\n",
    "\n",
    "    df_mini = df.fillna(0)\n",
    "    for m in metrics:\n",
    "        covariate_column = str(m+'_covariate')\n",
    "        cuped_column = str(m+'_cuped')\n",
    "        mean_covariate = df_mini[covariate_column].mean()\n",
    "\n",
    "        theta = (df_mini[m].cov(df_mini[covariate_column]))/(df_mini.loc[:,covariate_column].var())\n",
    "        df_mini[cuped_column] = df_mini[m] - (df_mini[covariate_column] - mean_covariate) * theta\n",
    "\n",
    "    df.update(df_mini)\n",
    "\n",
    "    return df.drop_duplicates()"
   ]
  },
  {
   "cell_type": "code",
   "execution_count": 43,
   "metadata": {},
   "outputs": [],
   "source": [
    "def get_cuped_transformed_df(shop_metrics_new, shop_metrics_old, metric):\n",
    "    shop_metrics_all = pd.merge(shop_metrics_new, shop_metrics_old[['user_id', metric]], on=['user_id'], how='left')\n",
    "    shop_metrics_all = shop_metrics_all\\\n",
    "                   .rename(columns={f'{metric}_x': f'{metric}', f'{metric}_y': f'{metric}_covariate'})\n",
    "    shop_metrics_all_cuped = cuped_transform(shop_metrics_all.copy(), [metric])\n",
    "    return shop_metrics_all_cuped"
   ]
  },
  {
   "cell_type": "code",
   "execution_count": 147,
   "metadata": {},
   "outputs": [],
   "source": [
    "shop_metrics_all_cuped = get_cuped_transformed_df(shop_metrics_new, shop_metrics_old, 'cart_added_cnt')"
   ]
  },
  {
   "cell_type": "code",
   "execution_count": 46,
   "metadata": {},
   "outputs": [
    {
     "data": {
      "text/plain": [
       "TtestResult(statistic=-1.3855896128448428, pvalue=0.1658736404876475, df=222519.0)"
      ]
     },
     "execution_count": 46,
     "metadata": {},
     "output_type": "execute_result"
    }
   ],
   "source": [
    "stats.ttest_ind(shop_metrics_all_cuped[shop_metrics_all_cuped.group == 'A']['cart_added_cnt_cuped'],\n",
    "                shop_metrics_all_cuped[shop_metrics_all_cuped.group == 'B']['cart_added_cnt_cuped'])"
   ]
  },
  {
   "cell_type": "code",
   "execution_count": 178,
   "metadata": {},
   "outputs": [],
   "source": [
    "def get_vecs(df, metric, effect=0.05, ranked=False, log=False):\n",
    "    vec_a = df[(df['group'] == 'A')][metric]\n",
    "    vec_b = df[(df['group'] == 'B')][metric]\n",
    "    if log:\n",
    "        vec_b_effect = vec_b + np.log(1 + effect)\n",
    "    else:\n",
    "        vec_b_effect = vec_b * (1 + effect)\n",
    "    if ranked:\n",
    "        df_b = df[df.group == 'B'].drop(columns=[metric])\n",
    "        df_b[metric] = list(vec_b_effect)\n",
    "        ranked_df_effect = rank_transformation(df[df.group == 'A'], df_b, metric)\n",
    "        vec_a_power = ranked_df_effect[(ranked_df_effect['group'] == 'A')]['rank']\n",
    "        vec_b_power = ranked_df_effect[(ranked_df_effect['group'] == 'B')]['rank']\n",
    "        return vec_a_power, vec_b_power\n",
    "    return vec_a, vec_b_effect\n",
    "    \n",
    "\n",
    "def compare_power_cuped(shop_metrics_new, shop_metrics_old, metric, effect=0.05, n=100, ranked=False, log=False):\n",
    "    \n",
    "    shop = shop_metrics_new.drop(columns=['group'])\n",
    "\n",
    "    power = []\n",
    "    power_cuped = []\n",
    "    \n",
    "    for i in tqdm(range(n)):\n",
    "    \n",
    "        new_group = groups_splitter(shop.copy(), user_salt=salt_generator())\n",
    "        new_df = pd.merge(shop, new_group, how=\"left\", on=['user_id']).drop_duplicates()\n",
    "        all_df = pd.merge(new_df, shop_metrics_old[['user_id', metric]], on=['user_id'], how='left')\n",
    "        all_df = all_df.rename(columns={f'{metric}_x': metric, f'{metric}_y': f'{metric}_covariate'})\n",
    "        cuped_df = cuped_transform(all_df, [metric])\n",
    "    \n",
    "        vec_a_power, vec_b_power = get_vecs(all_df, metric, effect=effect, ranked=ranked)\n",
    "        vec_a_cuped_power, vec_b_cuped_power = get_vecs(cuped_df, f'{metric}_cuped', effect=effect, ranked=ranked)\n",
    "        \n",
    "        \n",
    "        p_power, p_power_cuped = stats.ttest_ind(vec_a_power, vec_b_power)[1], stats.ttest_ind(vec_a_cuped_power, vec_b_cuped_power)[1]\n",
    "        power.append(p_power)\n",
    "        power_cuped.append(p_power_cuped)\n",
    "    \n",
    "    power = np.array(power)\n",
    "    power_cuped = np.array(power_cuped)\n",
    "\n",
    "    power_value = (power[power < 0.05].shape[0] / power.shape[0])\n",
    "    power_cuped_value = (power_cuped[power_cuped < 0.05].shape[0] / power_cuped.shape[0])\n",
    "    \n",
    "    print(f'POWER:\\nбез cuped: {power_value * 100}%\\tcuped: {power_cuped_value * 100}% ')\n",
    "    return power_value, power_cuped_value"
   ]
  },
  {
   "cell_type": "code",
   "execution_count": 102,
   "metadata": {},
   "outputs": [
    {
     "data": {
      "application/vnd.jupyter.widget-view+json": {
       "model_id": "45f3d3f6aefd4dc7ae4624108d9669af",
       "version_major": 2,
       "version_minor": 0
      },
      "text/plain": [
       "  0%|          | 0/100 [00:00<?, ?it/s]"
      ]
     },
     "metadata": {},
     "output_type": "display_data"
    },
    {
     "name": "stdout",
     "output_type": "stream",
     "text": [
      "POWER:\n",
      "без cuped: 63.0%\tcuped: 100.0% \n"
     ]
    },
    {
     "data": {
      "text/plain": [
       "(0.63, 1.0)"
      ]
     },
     "execution_count": 102,
     "metadata": {},
     "output_type": "execute_result"
    }
   ],
   "source": [
    "compare_power_cuped(shop_metrics_new, shop_metrics_old, 'cart_added_cnt', effect=0.05, n=100)"
   ]
  },
  {
   "cell_type": "markdown",
   "metadata": {
    "id": "LaLW47JG7Dad"
   },
   "source": [
    "После применения CUPED-трансформации дисперсия метрики cart_added_cnt уменьшилась, что позволило увеличить мощность t-критерия. Результаты показали, что мощность выросла с 63% до 100%, что указывает на более высокую вероятность выявления статистически значимого эффекта, если он существует."
   ]
  },
  {
   "cell_type": "markdown",
   "metadata": {
    "id": "ueWVKwhB7HBL"
   },
   "source": [
    "**логарфимированная метрика cart_added_cnt (5 баллов)**"
   ]
  },
  {
   "cell_type": "code",
   "execution_count": 169,
   "metadata": {},
   "outputs": [],
   "source": [
    "shop_metrics_new['cart_added_cnt_ln'] = shop_metrics_new['cart_added_cnt'].apply(lambda x: np.log(x+1))\n",
    "shop_metrics_old['cart_added_cnt_ln'] = shop_metrics_old['cart_added_cnt'].apply(lambda x: np.log(x+1))"
   ]
  },
  {
   "cell_type": "code",
   "execution_count": 170,
   "metadata": {
    "id": "hHohe0kG7NIq"
   },
   "outputs": [],
   "source": [
    "shop_metrics_all_cuped_ln = get_cuped_transformed_df(shop_metrics_new, shop_metrics_old, 'cart_added_cnt_ln')"
   ]
  },
  {
   "cell_type": "code",
   "execution_count": 171,
   "metadata": {},
   "outputs": [
    {
     "data": {
      "text/plain": [
       "TtestResult(statistic=-2.0493551017037106, pvalue=0.040428574068197394, df=222519.0)"
      ]
     },
     "execution_count": 171,
     "metadata": {},
     "output_type": "execute_result"
    }
   ],
   "source": [
    "stats.ttest_ind(shop_metrics_all_cuped_ln[shop_metrics_all_cuped_ln.group == 'A']['cart_added_cnt_ln_cuped'],\n",
    "                shop_metrics_all_cuped_ln[shop_metrics_all_cuped_ln.group == 'B']['cart_added_cnt_ln_cuped'])"
   ]
  },
  {
   "cell_type": "code",
   "execution_count": 179,
   "metadata": {},
   "outputs": [
    {
     "data": {
      "application/vnd.jupyter.widget-view+json": {
       "model_id": "a90f70cceb594651a53b9ee4556be52e",
       "version_major": 2,
       "version_minor": 0
      },
      "text/plain": [
       "  0%|          | 0/100 [00:00<?, ?it/s]"
      ]
     },
     "metadata": {},
     "output_type": "display_data"
    },
    {
     "name": "stdout",
     "output_type": "stream",
     "text": [
      "POWER:\n",
      "без cuped: 96.0%\tcuped: 100.0% \n"
     ]
    },
    {
     "data": {
      "text/plain": [
       "(0.96, 1.0)"
      ]
     },
     "execution_count": 179,
     "metadata": {},
     "output_type": "execute_result"
    }
   ],
   "source": [
    "compare_power_cuped(shop_metrics_new, shop_metrics_old, 'cart_added_cnt_ln', effect=0.05, n=100, log=True)"
   ]
  },
  {
   "cell_type": "markdown",
   "metadata": {
    "id": "Y1udGVVm7OJd"
   },
   "source": [
    "Высокая мощность (96%) говорит о том, что даже без применения CUPED логарифмирование эффективно справляется с задачей. Вероятно, оно помогло уменьшить влияние выбросов или неравномерности распределения данных, что сделало тест достаточно мощным.  \n",
    "CUPED добавляет небольшой прирост мощности, доводя её до максимального значения. Это указывает на то, что ковариаты всё же помогают минимизировать остаточную вариацию, но их эффект не столь значительный, как для обычной метрики."
   ]
  },
  {
   "cell_type": "markdown",
   "metadata": {
    "id": "YGjdyK4T7RZT"
   },
   "source": [
    "**метрика cart_added_cnt (а после подвергнуть ранговому преобразованию) (5 баллов)**"
   ]
  },
  {
   "cell_type": "code",
   "execution_count": 57,
   "metadata": {
    "id": "z41OSi2j7UD2"
   },
   "outputs": [],
   "source": [
    "ranked_cuped = rank_transformation(shop_metrics_all_cuped[shop_metrics_all_cuped.group == 'A'],\n",
    "                             shop_metrics_all_cuped[shop_metrics_all_cuped.group == 'B'], 'cart_added_cnt_cuped')"
   ]
  },
  {
   "cell_type": "code",
   "execution_count": 58,
   "metadata": {},
   "outputs": [
    {
     "data": {
      "text/plain": [
       "TtestResult(statistic=-1.4459909525623789, pvalue=0.14818114788143424, df=222519.0)"
      ]
     },
     "execution_count": 58,
     "metadata": {},
     "output_type": "execute_result"
    }
   ],
   "source": [
    "stats.ttest_ind(ranked_cuped[ranked_cuped.group == 'A']['rank'], ranked_cuped[ranked_cuped.group == 'B']['rank'])"
   ]
  },
  {
   "cell_type": "code",
   "execution_count": 114,
   "metadata": {},
   "outputs": [
    {
     "data": {
      "application/vnd.jupyter.widget-view+json": {
       "model_id": "96ef6870935044309a02092dc804cd37",
       "version_major": 2,
       "version_minor": 0
      },
      "text/plain": [
       "  0%|          | 0/100 [00:00<?, ?it/s]"
      ]
     },
     "metadata": {},
     "output_type": "display_data"
    },
    {
     "name": "stdout",
     "output_type": "stream",
     "text": [
      "POWER:\n",
      "без cuped: 100.0%\tcuped: 100.0% \n"
     ]
    },
    {
     "data": {
      "text/plain": [
       "(1.0, 1.0)"
      ]
     },
     "execution_count": 114,
     "metadata": {},
     "output_type": "execute_result"
    }
   ],
   "source": [
    "compare_power_cuped(shop_metrics_new, shop_metrics_old, 'cart_added_cnt', effect=0.05, n=100, ranked=True)"
   ]
  },
  {
   "cell_type": "markdown",
   "metadata": {
    "id": "WFHTSMJa7Uhk"
   },
   "source": [
    "Даже без использования CUPED, ранговая метрика уже обладает высокой мощностью (100%). Это может быть связано с тем, что ранжирование устраняет влияние выбросов и делает тест более устойчивым.  \n",
    "CUPED не привел к заметному улучшению, так как мощность уже была на максимальном уровне."
   ]
  },
  {
   "cell_type": "markdown",
   "metadata": {},
   "source": [
    "**Вывод:** CUPED дает наиибольший прирост для обычной метрики (нелогарифмированной и без рангового преобразования)."
   ]
  },
  {
   "cell_type": "markdown",
   "metadata": {
    "id": "DP9pRlI97rPx"
   },
   "source": [
    "# **3. Реализовать разбивку на бакеты, оценить t-критерием и сравнить с результатом без бакетирования:**"
   ]
  },
  {
   "cell_type": "markdown",
   "metadata": {},
   "source": [
    "В каждом случае фиксировать, на сколько сокращается дисперсия, проверять равны ли средние в группах в ковариате и совпадают ли средние в метрике до и после применения cuped."
   ]
  },
  {
   "cell_type": "markdown",
   "metadata": {
    "id": "ooh-3a1O73BV"
   },
   "source": [
    "**На логнормальном распределении (сгенерированные данные) (5 баллов)**"
   ]
  },
  {
   "cell_type": "code",
   "execution_count": 327,
   "metadata": {},
   "outputs": [],
   "source": [
    "shop_metrics_new['lognorm'] = np.random.lognormal(size=len(shop_metrics_new))"
   ]
  },
  {
   "cell_type": "code",
   "execution_count": 472,
   "metadata": {},
   "outputs": [],
   "source": [
    "shop_metrics_new['lognorm_bucket'] = shop_metrics_new['lognorm'].apply(lambda x: x//10)"
   ]
  },
  {
   "cell_type": "code",
   "execution_count": 473,
   "metadata": {},
   "outputs": [
    {
     "data": {
      "text/plain": [
       "array([0., 1., 2., 3., 4., 6., 5., 7.])"
      ]
     },
     "execution_count": 473,
     "metadata": {},
     "output_type": "execute_result"
    }
   ],
   "source": [
    "shop_metrics_new['lognorm_bucket'].unique()"
   ]
  },
  {
   "cell_type": "code",
   "execution_count": 474,
   "metadata": {},
   "outputs": [
    {
     "data": {
      "text/plain": [
       "'Дисперсия уменьшилась с 2.14 до 0.13'"
      ]
     },
     "execution_count": 474,
     "metadata": {},
     "output_type": "execute_result"
    }
   ],
   "source": [
    "f\"Дисперсия уменьшилась с {shop_metrics_new['lognorm'].std():.2f} до {shop_metrics_new['lognorm_bucket'].std():.2f}\""
   ]
  },
  {
   "cell_type": "code",
   "execution_count": 475,
   "metadata": {},
   "outputs": [
    {
     "data": {
      "text/plain": [
       "TtestResult(statistic=-0.2585141876301902, pvalue=0.7960103399219585, df=222519.0)"
      ]
     },
     "execution_count": 475,
     "metadata": {},
     "output_type": "execute_result"
    }
   ],
   "source": [
    "stats.ttest_ind(shop_metrics_new[shop_metrics_new.group == 'A']['lognorm'], shop_metrics_new[shop_metrics_new.group == 'B']['lognorm'])"
   ]
  },
  {
   "cell_type": "code",
   "execution_count": 476,
   "metadata": {},
   "outputs": [
    {
     "data": {
      "text/plain": [
       "TtestResult(statistic=-0.42883166848605253, pvalue=0.6680461457641562, df=222519.0)"
      ]
     },
     "execution_count": 476,
     "metadata": {},
     "output_type": "execute_result"
    }
   ],
   "source": [
    "stats.ttest_ind(shop_metrics_new[shop_metrics_new.group == 'A']['lognorm_bucket'], shop_metrics_new[shop_metrics_new.group == 'B']['lognorm_bucket'])"
   ]
  },
  {
   "cell_type": "markdown",
   "metadata": {},
   "source": [
    "И с бакетированием, и без тест не показал значимых различий между группами. Однако после бакетирования p-value снизилось с 0.8 до 0.67. "
   ]
  },
  {
   "cell_type": "code",
   "execution_count": 485,
   "metadata": {},
   "outputs": [],
   "source": [
    "shop_metrics_old['lognorm'] = np.random.lognormal(size=len(shop_metrics_old))\n",
    "shop_metrics_old['lognorm_bucket'] = shop_metrics_old['lognorm'].apply(lambda x: x//10)"
   ]
  },
  {
   "cell_type": "code",
   "execution_count": 491,
   "metadata": {},
   "outputs": [],
   "source": [
    "shop_metrics_all_lognorm_cuped = get_cuped_transformed_df(shop_metrics_new, shop_metrics_old, 'lognorm')\n",
    "shop_metrics_all_lognorm_bucket_cuped = get_cuped_transformed_df(shop_metrics_new, shop_metrics_old, 'lognorm_bucket')"
   ]
  },
  {
   "cell_type": "markdown",
   "metadata": {},
   "source": [
    "Равны ли средние в группах в ковариате?"
   ]
  },
  {
   "cell_type": "code",
   "execution_count": 487,
   "metadata": {},
   "outputs": [
    {
     "data": {
      "text/plain": [
       "group\n",
       "A    1.647808\n",
       "B    1.635398\n",
       "Name: lognorm_covariate, dtype: float64"
      ]
     },
     "execution_count": 487,
     "metadata": {},
     "output_type": "execute_result"
    }
   ],
   "source": [
    "shop_metrics_all_lognorm_cuped.groupby('group')['lognorm_covariate'].mean()"
   ]
  },
  {
   "cell_type": "code",
   "execution_count": 488,
   "metadata": {},
   "outputs": [
    {
     "data": {
      "text/plain": [
       "group\n",
       "A    0.012154\n",
       "B    0.011862\n",
       "Name: lognorm_bucket_covariate, dtype: float64"
      ]
     },
     "execution_count": 488,
     "metadata": {},
     "output_type": "execute_result"
    }
   ],
   "source": [
    "shop_metrics_all_lognorm_bucket_cuped.groupby('group')['lognorm_bucket_covariate'].mean()"
   ]
  },
  {
   "cell_type": "markdown",
   "metadata": {},
   "source": [
    "Средние в группах в ковариате равны с точностью до тысячных и для обычной метрики, и для бакетированной."
   ]
  },
  {
   "cell_type": "markdown",
   "metadata": {},
   "source": [
    "Совпадают ли средние в метрике до и после применения cuped?"
   ]
  },
  {
   "cell_type": "code",
   "execution_count": 481,
   "metadata": {},
   "outputs": [
    {
     "data": {
      "text/plain": [
       "True"
      ]
     },
     "execution_count": 481,
     "metadata": {},
     "output_type": "execute_result"
    }
   ],
   "source": [
    "shop_metrics_new['lognorm'].mean() == shop_metrics_all_lognorm_cuped['lognorm'].mean()"
   ]
  },
  {
   "cell_type": "code",
   "execution_count": 482,
   "metadata": {},
   "outputs": [
    {
     "data": {
      "text/plain": [
       "True"
      ]
     },
     "execution_count": 482,
     "metadata": {},
     "output_type": "execute_result"
    }
   ],
   "source": [
    "shop_metrics_new['lognorm_bucket'].mean() == shop_metrics_all_lognorm_cuped['lognorm_bucket'].mean()"
   ]
  },
  {
   "cell_type": "markdown",
   "metadata": {},
   "source": [
    "Средние в метрике до и после применения cuped совпадают и для обычной метрики, и для бакетированной."
   ]
  },
  {
   "cell_type": "code",
   "execution_count": 489,
   "metadata": {},
   "outputs": [
    {
     "data": {
      "text/plain": [
       "TtestResult(statistic=-0.25768483157605837, pvalue=0.7966503918017576, df=222519.0)"
      ]
     },
     "execution_count": 489,
     "metadata": {},
     "output_type": "execute_result"
    }
   ],
   "source": [
    "stats.ttest_ind(shop_metrics_all_lognorm_cuped[shop_metrics_all_lognorm_cuped.group == 'A']['lognorm_cuped'],\n",
    "                shop_metrics_all_lognorm_cuped[shop_metrics_all_lognorm_cuped.group == 'B']['lognorm_cuped'])"
   ]
  },
  {
   "cell_type": "code",
   "execution_count": 492,
   "metadata": {},
   "outputs": [
    {
     "data": {
      "text/plain": [
       "TtestResult(statistic=-0.43028813685962236, pvalue=0.6669864723046366, df=222519.0)"
      ]
     },
     "execution_count": 492,
     "metadata": {},
     "output_type": "execute_result"
    }
   ],
   "source": [
    "stats.ttest_ind(shop_metrics_all_lognorm_bucket_cuped[shop_metrics_all_lognorm_bucket_cuped.group == 'A']['lognorm_bucket_cuped'],\n",
    "                shop_metrics_all_lognorm_bucket_cuped[shop_metrics_all_lognorm_bucket_cuped.group == 'B']['lognorm_bucket_cuped'])"
   ]
  },
  {
   "cell_type": "markdown",
   "metadata": {},
   "source": [
    "И для обычной метрики, и для бакетированной применение CUPED почти не изменилос p-value."
   ]
  },
  {
   "cell_type": "markdown",
   "metadata": {
    "id": "iX1DDyhv73a2"
   },
   "source": [
    "**На метрике cart_added_cnt (5 баллов)**"
   ]
  },
  {
   "cell_type": "code",
   "execution_count": 495,
   "metadata": {},
   "outputs": [
    {
     "data": {
      "text/plain": [
       "array([ 0,  2,  1,  3, 12,  4,  6,  5,  8,  7, 56, 38, 15, 17,  9, 23, 11,\n",
       "       10, 13, 75, 21, 19, 20, 28, 22, 14, 39, 51, 24, 33, 16, 18, 41, 25,\n",
       "       61])"
      ]
     },
     "execution_count": 495,
     "metadata": {},
     "output_type": "execute_result"
    }
   ],
   "source": [
    "shop_metrics_new['cart_added_cnt'].unique()"
   ]
  },
  {
   "cell_type": "code",
   "execution_count": 496,
   "metadata": {
    "id": "2BCJxPBs87SV"
   },
   "outputs": [],
   "source": [
    "shop_metrics_new['cart_added_cnt_bucket'] = shop_metrics_new['cart_added_cnt'].apply(lambda x: x//10)"
   ]
  },
  {
   "cell_type": "code",
   "execution_count": 497,
   "metadata": {},
   "outputs": [
    {
     "data": {
      "text/plain": [
       "array([0, 1, 5, 3, 2, 7, 4, 6])"
      ]
     },
     "execution_count": 497,
     "metadata": {},
     "output_type": "execute_result"
    }
   ],
   "source": [
    "shop_metrics_new['cart_added_cnt_bucket'].unique()"
   ]
  },
  {
   "cell_type": "code",
   "execution_count": 498,
   "metadata": {},
   "outputs": [
    {
     "data": {
      "text/plain": [
       "'Дисперсия уменьшилась с 0.63 до 0.04'"
      ]
     },
     "execution_count": 498,
     "metadata": {},
     "output_type": "execute_result"
    }
   ],
   "source": [
    "f\"Дисперсия уменьшилась с {shop_metrics_new['cart_added_cnt'].std():.2f} до {shop_metrics_new['cart_added_cnt_bucket'].std():.2f}\""
   ]
  },
  {
   "cell_type": "code",
   "execution_count": 499,
   "metadata": {},
   "outputs": [
    {
     "data": {
      "text/plain": [
       "TtestResult(statistic=-1.3047727178459143, pvalue=0.1919716009958315, df=222519.0)"
      ]
     },
     "execution_count": 499,
     "metadata": {},
     "output_type": "execute_result"
    }
   ],
   "source": [
    "stats.ttest_ind(shop_metrics_new[shop_metrics_new.group == 'A']['cart_added_cnt'], shop_metrics_new[shop_metrics_new.group == 'B']['cart_added_cnt'])"
   ]
  },
  {
   "cell_type": "code",
   "execution_count": 500,
   "metadata": {},
   "outputs": [
    {
     "data": {
      "text/plain": [
       "TtestResult(statistic=-0.46024411491481815, pvalue=0.6453414591158615, df=222519.0)"
      ]
     },
     "execution_count": 500,
     "metadata": {},
     "output_type": "execute_result"
    }
   ],
   "source": [
    "stats.ttest_ind(shop_metrics_new[shop_metrics_new.group == 'A']['cart_added_cnt_bucket'], shop_metrics_new[shop_metrics_new.group == 'B']['cart_added_cnt_bucket'])"
   ]
  },
  {
   "cell_type": "markdown",
   "metadata": {},
   "source": [
    "И с бакетированием, и без тест не показал значимых различий между группами. Однако после бакетирования p-value значительно увеличилось (с 0.19 до 0.65). Вероятно, бакетирование сильно \"размыло\" различие между группами: пропало различие между теми, кто положил в корзину 9 товаров и 0 товаров."
   ]
  },
  {
   "cell_type": "code",
   "execution_count": 507,
   "metadata": {},
   "outputs": [],
   "source": [
    "shop_metrics_old['cart_added_cnt_bucket'] = shop_metrics_old['cart_added_cnt'].apply(lambda x: x//10)"
   ]
  },
  {
   "cell_type": "code",
   "execution_count": 508,
   "metadata": {},
   "outputs": [],
   "source": [
    "shop_metrics_all_cuped = get_cuped_transformed_df(shop_metrics_new, shop_metrics_old, 'cart_added_cnt')\n",
    "shop_metrics_all_bucket_cuped = get_cuped_transformed_df(shop_metrics_new, shop_metrics_old, 'cart_added_cnt_bucket')"
   ]
  },
  {
   "cell_type": "markdown",
   "metadata": {},
   "source": [
    "Равны ли средние в группах в ковариате?"
   ]
  },
  {
   "cell_type": "code",
   "execution_count": 509,
   "metadata": {},
   "outputs": [
    {
     "data": {
      "text/plain": [
       "group\n",
       "A    0.140557\n",
       "B    0.143426\n",
       "Name: cart_added_cnt_covariate, dtype: float64"
      ]
     },
     "execution_count": 509,
     "metadata": {},
     "output_type": "execute_result"
    }
   ],
   "source": [
    "shop_metrics_all_cuped.groupby('group')['cart_added_cnt_covariate'].mean()"
   ]
  },
  {
   "cell_type": "code",
   "execution_count": 510,
   "metadata": {},
   "outputs": [
    {
     "data": {
      "text/plain": [
       "group\n",
       "A    0.000674\n",
       "B    0.000764\n",
       "Name: cart_added_cnt_bucket_covariate, dtype: float64"
      ]
     },
     "execution_count": 510,
     "metadata": {},
     "output_type": "execute_result"
    }
   ],
   "source": [
    "shop_metrics_all_bucket_cuped.groupby('group')['cart_added_cnt_bucket_covariate'].mean()"
   ]
  },
  {
   "cell_type": "markdown",
   "metadata": {},
   "source": [
    "Средние в группах в ковариате равны с точностью до сотых для обычной метрики и с точностью до тысячных для бакетированной метрики."
   ]
  },
  {
   "cell_type": "markdown",
   "metadata": {},
   "source": [
    "Совпадают ли средние в метрике до и после применения cuped?"
   ]
  },
  {
   "cell_type": "code",
   "execution_count": 459,
   "metadata": {},
   "outputs": [
    {
     "data": {
      "text/plain": [
       "True"
      ]
     },
     "execution_count": 459,
     "metadata": {},
     "output_type": "execute_result"
    }
   ],
   "source": [
    "shop_metrics_new['cart_added_cnt'].mean() == shop_metrics_all_cuped['cart_added_cnt'].mean()"
   ]
  },
  {
   "cell_type": "code",
   "execution_count": 460,
   "metadata": {},
   "outputs": [
    {
     "data": {
      "text/plain": [
       "True"
      ]
     },
     "execution_count": 460,
     "metadata": {},
     "output_type": "execute_result"
    }
   ],
   "source": [
    "shop_metrics_new['cart_added_cnt_bucket'].mean() == shop_metrics_all_bucket_cuped['cart_added_cnt_bucket'].mean()"
   ]
  },
  {
   "cell_type": "markdown",
   "metadata": {},
   "source": [
    "Средние в метрике до и после применения cuped совпадают и для обычной метрики, и для бакетированной."
   ]
  },
  {
   "cell_type": "code",
   "execution_count": 511,
   "metadata": {},
   "outputs": [
    {
     "data": {
      "text/plain": [
       "TtestResult(statistic=-1.3855896128448428, pvalue=0.1658736404876475, df=222519.0)"
      ]
     },
     "execution_count": 511,
     "metadata": {},
     "output_type": "execute_result"
    }
   ],
   "source": [
    "stats.ttest_ind(shop_metrics_all_cuped[shop_metrics_all_cuped.group == 'A']['cart_added_cnt_cuped'],\n",
    "                shop_metrics_all_cuped[shop_metrics_all_cuped.group == 'B']['cart_added_cnt_cuped'])"
   ]
  },
  {
   "cell_type": "code",
   "execution_count": 512,
   "metadata": {},
   "outputs": [
    {
     "data": {
      "text/plain": [
       "TtestResult(statistic=0.22875639879432447, pvalue=0.8190584671361374, df=222519.0)"
      ]
     },
     "execution_count": 512,
     "metadata": {},
     "output_type": "execute_result"
    }
   ],
   "source": [
    "stats.ttest_ind(shop_metrics_all_bucket_cuped[shop_metrics_all_bucket_cuped.group == 'A']['cart_added_cnt_bucket_cuped'],\n",
    "                shop_metrics_all_bucket_cuped[shop_metrics_all_bucket_cuped.group == 'B']['cart_added_cnt_bucket_cuped'])"
   ]
  },
  {
   "cell_type": "markdown",
   "metadata": {},
   "source": [
    "Для обычной метрики применение CUPED уменьшило p-value (0.19 -> 0.17), а для бакетированной, наоборот, увеличило (0.65 -> 0.82)."
   ]
  },
  {
   "cell_type": "markdown",
   "metadata": {
    "id": "RjfMzj2t-b7K"
   },
   "source": [
    "**Выводы:**\n",
    "- Для логнормальных метрик бакетирование полезно, так как оно уменьшает дисперсию и устраняет выбросы.\n",
    "- Для метрик с низкой дисперсией (например, целочисленных, таких как cart_added_cnt), лучше избегать излишне крупного бакетирования, чтобы сохранить различия между группами."
   ]
  },
  {
   "cell_type": "markdown",
   "metadata": {
    "id": "WtcFOx1a9Nlu"
   },
   "source": [
    "# **4. Реализовать постстратификацию на данных shop_metrics_old для метрики cart_added_cnt:**"
   ]
  },
  {
   "cell_type": "markdown",
   "metadata": {
    "id": "CqNuIBkM9cGV"
   },
   "source": [
    "**На сочетании пола и возраста (возраст разбить на подгруппы: 18-24, 25-45, 46-60, 61-75, 76+) (5 баллов)**"
   ]
  },
  {
   "cell_type": "code",
   "execution_count": 148,
   "metadata": {},
   "outputs": [
    {
     "data": {
      "text/html": [
       "<div>\n",
       "<style scoped>\n",
       "    .dataframe tbody tr th:only-of-type {\n",
       "        vertical-align: middle;\n",
       "    }\n",
       "\n",
       "    .dataframe tbody tr th {\n",
       "        vertical-align: top;\n",
       "    }\n",
       "\n",
       "    .dataframe thead th {\n",
       "        text-align: right;\n",
       "    }\n",
       "</style>\n",
       "<table border=\"1\" class=\"dataframe\">\n",
       "  <thead>\n",
       "    <tr style=\"text-align: right;\">\n",
       "      <th></th>\n",
       "      <th>user_id</th>\n",
       "      <th>user_age</th>\n",
       "      <th>user_sex</th>\n",
       "    </tr>\n",
       "  </thead>\n",
       "  <tbody>\n",
       "    <tr>\n",
       "      <th>0</th>\n",
       "      <td>1515915625519388267</td>\n",
       "      <td>41</td>\n",
       "      <td>f</td>\n",
       "    </tr>\n",
       "    <tr>\n",
       "      <th>1</th>\n",
       "      <td>1515915625519380411</td>\n",
       "      <td>84</td>\n",
       "      <td>m</td>\n",
       "    </tr>\n",
       "    <tr>\n",
       "      <th>2</th>\n",
       "      <td>1515915625513238515</td>\n",
       "      <td>41</td>\n",
       "      <td>m</td>\n",
       "    </tr>\n",
       "    <tr>\n",
       "      <th>3</th>\n",
       "      <td>1515915625519014356</td>\n",
       "      <td>25</td>\n",
       "      <td>m</td>\n",
       "    </tr>\n",
       "    <tr>\n",
       "      <th>4</th>\n",
       "      <td>1515915625510743344</td>\n",
       "      <td>42</td>\n",
       "      <td>m</td>\n",
       "    </tr>\n",
       "    <tr>\n",
       "      <th>...</th>\n",
       "      <td>...</td>\n",
       "      <td>...</td>\n",
       "      <td>...</td>\n",
       "    </tr>\n",
       "    <tr>\n",
       "      <th>407278</th>\n",
       "      <td>1515915625611023671</td>\n",
       "      <td>76</td>\n",
       "      <td>m</td>\n",
       "    </tr>\n",
       "    <tr>\n",
       "      <th>407279</th>\n",
       "      <td>1515915625611023730</td>\n",
       "      <td>34</td>\n",
       "      <td>m</td>\n",
       "    </tr>\n",
       "    <tr>\n",
       "      <th>407280</th>\n",
       "      <td>1515915625611024014</td>\n",
       "      <td>62</td>\n",
       "      <td>m</td>\n",
       "    </tr>\n",
       "    <tr>\n",
       "      <th>407281</th>\n",
       "      <td>1515915625611024020</td>\n",
       "      <td>48</td>\n",
       "      <td>f</td>\n",
       "    </tr>\n",
       "    <tr>\n",
       "      <th>407282</th>\n",
       "      <td>1515915625611024030</td>\n",
       "      <td>77</td>\n",
       "      <td>m</td>\n",
       "    </tr>\n",
       "  </tbody>\n",
       "</table>\n",
       "<p>407283 rows × 3 columns</p>\n",
       "</div>"
      ],
      "text/plain": [
       "                    user_id  user_age user_sex\n",
       "0       1515915625519388267        41        f\n",
       "1       1515915625519380411        84        m\n",
       "2       1515915625513238515        41        m\n",
       "3       1515915625519014356        25        m\n",
       "4       1515915625510743344        42        m\n",
       "...                     ...       ...      ...\n",
       "407278  1515915625611023671        76        m\n",
       "407279  1515915625611023730        34        m\n",
       "407280  1515915625611024014        62        m\n",
       "407281  1515915625611024020        48        f\n",
       "407282  1515915625611024030        77        m\n",
       "\n",
       "[407283 rows x 3 columns]"
      ]
     },
     "execution_count": 148,
     "metadata": {},
     "output_type": "execute_result"
    }
   ],
   "source": [
    "shop_users_info"
   ]
  },
  {
   "cell_type": "code",
   "execution_count": 191,
   "metadata": {},
   "outputs": [],
   "source": [
    "from math import inf\n",
    "\n",
    "def get_strf_group(x, sex=True, age=True):\n",
    "    assert sex or age, 'Stratification should be by sex or/and age'\n",
    "    group = x['user_sex'] if sex else ''\n",
    "    if age:\n",
    "        age_groups = [(18, 24), (25, 45), (46, 60), (61, 75), (76, inf)]\n",
    "        for minlim, maxlim in age_groups:\n",
    "            if minlim <= x['user_age'] <= maxlim:\n",
    "                group += f'_{minlim}-{maxlim}'\n",
    "    return group"
   ]
  },
  {
   "cell_type": "code",
   "execution_count": 192,
   "metadata": {},
   "outputs": [],
   "source": [
    "def poststratify(df, sex=True, age=True):\n",
    "    shop_w_features = pd.merge(df, shop_users_info, on=['user_id'], how='left')\n",
    "    shop_w_features['strf'] = shop_w_features.apply(lambda x: get_strf_group(x, sex=sex, age=age), axis=1)\n",
    "    return shop_w_features"
   ]
  },
  {
   "cell_type": "code",
   "execution_count": 187,
   "metadata": {
    "id": "aKuPPDTN9pdi"
   },
   "outputs": [],
   "source": [
    "shop_w_features = poststratify(shop_metrics_old)"
   ]
  },
  {
   "cell_type": "code",
   "execution_count": 162,
   "metadata": {},
   "outputs": [
    {
     "data": {
      "text/plain": [
       "array(['f_46-60', 'm_46-60', 'f_18-24', 'm_25-45', 'f_25-45', 'm_76-inf',\n",
       "       'm_61-75', 'f_61-75', 'f_76-inf', 'm_18-24'], dtype=object)"
      ]
     },
     "execution_count": 162,
     "metadata": {},
     "output_type": "execute_result"
    }
   ],
   "source": [
    "shop_w_features['sex_age_group'].unique()"
   ]
  },
  {
   "cell_type": "code",
   "execution_count": 164,
   "metadata": {},
   "outputs": [
    {
     "data": {
      "text/plain": [
       "TtestResult(statistic=-0.7331870372707812, pvalue=0.4634447828246868, df=406861.0)"
      ]
     },
     "execution_count": 164,
     "metadata": {},
     "output_type": "execute_result"
    }
   ],
   "source": [
    "stats.ttest_ind(shop_w_features[shop_w_features.group == 'A']['cart_added_cnt'],\n",
    "                shop_w_features[shop_w_features.group == 'B']['cart_added_cnt'])"
   ]
  },
  {
   "cell_type": "code",
   "execution_count": 194,
   "metadata": {},
   "outputs": [],
   "source": [
    "def test_poststratified(shop_w_features, metric, feature='strf', verbose=True):\n",
    "    N = shop_w_features['user_id'].nunique()\n",
    "    \n",
    "    strats_weights = {}\n",
    "    \n",
    "    mean_a, mean_b, std_a, std_b = 0, 0, 0, 0\n",
    "    \n",
    "    for i in range(0, shop_w_features[feature].nunique()):\n",
    "        key = shop_w_features[feature].value_counts().index[i]\n",
    "        strats_weights[key] = shop_w_features[feature].value_counts()[i] / N\n",
    "        mean_a += shop_w_features[(shop_w_features.group == 'A') & (shop_w_features[feature] == key)][metric].mean() * strats_weights[key]\n",
    "        mean_b += shop_w_features[(shop_w_features.group == 'B') & (shop_w_features[feature] == key)][metric].mean() * strats_weights[key]\n",
    "        std_a += shop_w_features[(shop_w_features.group == 'A') & (shop_w_features[feature] == key)][metric].std()**2 * strats_weights[key]\n",
    "        std_b += shop_w_features[(shop_w_features.group == 'B') & (shop_w_features[feature] == key)][metric].std()**2 * strats_weights[key]\n",
    "    \n",
    "    n_a = len(shop_w_features[shop_w_features.group == 'A'])\n",
    "    n_b = len(shop_w_features[shop_w_features.group == 'B'])\n",
    "    \n",
    "    if verbose:\n",
    "        print(f'effect: {(mean_b - mean_a)/mean_a*100}, std_a: {std_a}, std_b: {std_b}')\n",
    "\n",
    "    return stats.ttest_ind_from_stats(mean_a, std_a, n_a, mean_b, std_b, n_b)"
   ]
  },
  {
   "cell_type": "code",
   "execution_count": 515,
   "metadata": {},
   "outputs": [
    {
     "name": "stdout",
     "output_type": "stream",
     "text": [
      "effect: 1.1238909894351434, std_a: 0.33278038455229625, std_b: 0.3586264542191377\n"
     ]
    },
    {
     "data": {
      "text/plain": [
       "Ttest_indResult(statistic=-1.2454768228689563, pvalue=0.2129572471320501)"
      ]
     },
     "execution_count": 515,
     "metadata": {},
     "output_type": "execute_result"
    }
   ],
   "source": [
    "test_poststratified(shop_w_features, 'cart_added_cnt')"
   ]
  },
  {
   "cell_type": "markdown",
   "metadata": {
    "id": "D37DBzBf9ray"
   },
   "source": [
    "И с постстратификацией, и без тест не показал значимых различий между группами. Однако с постстратификацией p-value почти в два раза ниже. \n",
    "Возможно, для каких-то половозрастных групп различия между группами A и B более выражены. Проверим это."
   ]
  },
  {
   "cell_type": "code",
   "execution_count": 535,
   "metadata": {},
   "outputs": [
    {
     "name": "stdout",
     "output_type": "stream",
     "text": [
      "f_18-24\n",
      "TtestResult(statistic=-1.266858540599369, pvalue=0.20522328237478235, df=16950.0)\n",
      "f_25-45\n",
      "TtestResult(statistic=-0.39299361960582735, pvalue=0.6943258372048688, df=50977.0)\n",
      "f_46-60\n",
      "TtestResult(statistic=-1.3735823653700876, pvalue=0.1695798236274159, df=36445.0)\n",
      "f_61-75\n",
      "TtestResult(statistic=0.9180034589371632, pvalue=0.3586231740161858, df=36183.0)\n",
      "f_76-inf\n",
      "TtestResult(statistic=-2.0457070205331305, pvalue=0.040796961236604166, df=22205.0)\n",
      "m_18-24\n",
      "TtestResult(statistic=0.4675950776514708, pvalue=0.6400781497721612, df=25704.0)\n",
      "m_25-45\n",
      "TtestResult(statistic=0.5809968635854353, pvalue=0.5612442696570454, df=76920.0)\n",
      "m_46-60\n",
      "TtestResult(statistic=-0.6842568711378716, pvalue=0.4938158800493182, df=54602.0)\n",
      "m_61-75\n",
      "TtestResult(statistic=0.11940596450181902, pvalue=0.9049541782696899, df=54248.0)\n",
      "m_76-inf\n",
      "TtestResult(statistic=0.48092299846201075, pvalue=0.6305744531876034, df=32609.0)\n"
     ]
    }
   ],
   "source": [
    "for key in sorted(shop_w_features['strf'].unique()):\n",
    "    print(key)\n",
    "    print(stats.ttest_ind(shop_w_features[shop_w_features['strf'] == key][shop_w_features.group == 'A']['cart_added_cnt'],\n",
    "                shop_w_features[shop_w_features['strf'] == key][shop_w_features.group == 'B']['cart_added_cnt']))"
   ]
  },
  {
   "cell_type": "code",
   "execution_count": 534,
   "metadata": {},
   "outputs": [
    {
     "data": {
      "text/html": [
       "<div>\n",
       "<style scoped>\n",
       "    .dataframe tbody tr th:only-of-type {\n",
       "        vertical-align: middle;\n",
       "    }\n",
       "\n",
       "    .dataframe tbody tr th {\n",
       "        vertical-align: top;\n",
       "    }\n",
       "\n",
       "    .dataframe thead th {\n",
       "        text-align: right;\n",
       "    }\n",
       "</style>\n",
       "<table border=\"1\" class=\"dataframe\">\n",
       "  <thead>\n",
       "    <tr style=\"text-align: right;\">\n",
       "      <th></th>\n",
       "      <th>user_id</th>\n",
       "    </tr>\n",
       "    <tr>\n",
       "      <th>user_sex</th>\n",
       "      <th></th>\n",
       "    </tr>\n",
       "  </thead>\n",
       "  <tbody>\n",
       "    <tr>\n",
       "      <th>f</th>\n",
       "      <td>162918</td>\n",
       "    </tr>\n",
       "    <tr>\n",
       "      <th>m</th>\n",
       "      <td>244365</td>\n",
       "    </tr>\n",
       "  </tbody>\n",
       "</table>\n",
       "</div>"
      ],
      "text/plain": [
       "          user_id\n",
       "user_sex         \n",
       "f          162918\n",
       "m          244365"
      ]
     },
     "execution_count": 534,
     "metadata": {},
     "output_type": "execute_result"
    }
   ],
   "source": [
    "shop_users_info.groupby('user_sex').count()[['user_id']]"
   ]
  },
  {
   "cell_type": "markdown",
   "metadata": {},
   "source": [
    "Действительно, для женщин p-value в среднем ниже, чем для мужчин. Причем для женщин 76+ различия статистически значимы. При этом мужчин в выборке намного больше, засчет чего в тесте без постстратификации эффект теряется."
   ]
  },
  {
   "cell_type": "markdown",
   "metadata": {
    "id": "h1swI0jV9SbW"
   },
   "source": [
    "**Проверить мощность и корректность t-критерия для постстратифицированного случая (5 баллов)**"
   ]
  },
  {
   "cell_type": "code",
   "execution_count": 197,
   "metadata": {
    "id": "VWftzr8L9NNV"
   },
   "outputs": [],
   "source": [
    "def compare_power_correctness_posstratified(df, metric, effect=0.05, n=100, sex=True, age=True):\n",
    "    correctness = []\n",
    "    power = []\n",
    "    \n",
    "    correctness_pststrf = []\n",
    "    power_pststrf = []\n",
    "    \n",
    "    shop = df.drop(columns=['group'])\n",
    "    \n",
    "    for i in tqdm(range(n)):\n",
    "    \n",
    "        new_group = groups_splitter(shop.copy(), user_salt=salt_generator())\n",
    "        new_df = pd.merge(shop, new_group, how=\"left\", on=['user_id']).drop_duplicates()\n",
    "        shop_w_features = poststratify(new_df, sex=sex, age=age)\n",
    "        \n",
    "        vec_a = new_df[(new_df['group'] == 'A')][metric]\n",
    "        vec_b = new_df[(new_df['group'] == 'B')][metric]\n",
    "        vec_b_effect = vec_b * (1 + effect)\n",
    "        p_cor, p_power = stats.ttest_ind(vec_a, vec_b)[1], stats.ttest_ind(vec_a, vec_b_effect)[1]\n",
    "        correctness.append(p_cor)\n",
    "        power.append(p_power)\n",
    "    \n",
    "    \n",
    "        shop_w_features_w_effect = shop_w_features.copy()\n",
    "        shop_w_features_w_effect[metric] = shop_w_features_w_effect.apply(lambda x: x[metric]*(1 + effect) if x.group == 'B' else x[metric], axis=1)\n",
    "        \n",
    "        p_cor_pststrf, p_power_pststrf = test_poststratified(shop_w_features, metric, verbose=False)[1], test_poststratified(shop_w_features_w_effect, metric, verbose=False)[1]\n",
    "        correctness_pststrf.append(p_cor_pststrf)\n",
    "        power_pststrf.append(p_power_pststrf)\n",
    "        \n",
    "    \n",
    "    correctness = np.array(correctness)\n",
    "    correctness_pststrf = np.array(correctness_pststrf)\n",
    "    \n",
    "    sns.set(rc={'figure.figsize':(4.7,4.27)})\n",
    "    sns.histplot(data=correctness, bins=10, color='brown', kde=True)\n",
    "    sns.histplot(data=correctness_pststrf, bins=10, color='blue', kde=True)\n",
    "    \n",
    "    correctness_value = (1 - (correctness[correctness < 0.05].shape[0] / correctness.shape[0]))\n",
    "    correctness_pststrf_value = (1 - (correctness_pststrf[correctness_pststrf < 0.05].shape[0] / correctness_pststrf.shape[0]))\n",
    "    \n",
    "    \n",
    "    power = np.array(power)\n",
    "    power_pststrf = np.array(power_pststrf)\n",
    "    \n",
    "    power_value = (power[power < 0.05].shape[0] / power.shape[0])\n",
    "    power_pststrf_value = (power_pststrf[power_pststrf < 0.05].shape[0] / power_pststrf.shape[0])\n",
    "\n",
    "    \n",
    "    print(f'Постстратификация (по полу={sex}\\tпо возрасту={age})')\n",
    "    print()\n",
    "    print(f'CORRECTNESS:\\nбез постстратификации: {correctness_value * 100}%\\tс постстратификацией: {correctness_pststrf_value * 100}% ')\n",
    "    print()\n",
    "    print(f'POWER:\\nбез постстратификации: {power_value * 100}%\\tс постстратификацией: {power_pststrf_value * 100}% ')"
   ]
  },
  {
   "cell_type": "code",
   "execution_count": 201,
   "metadata": {},
   "outputs": [
    {
     "data": {
      "application/vnd.jupyter.widget-view+json": {
       "model_id": "b379efd1a9e641ae9a1910694b47aca9",
       "version_major": 2,
       "version_minor": 0
      },
      "text/plain": [
       "  0%|          | 0/100 [00:00<?, ?it/s]"
      ]
     },
     "metadata": {},
     "output_type": "display_data"
    },
    {
     "name": "stdout",
     "output_type": "stream",
     "text": [
      "Постстратификация (по полу=True\tпо возрасту=True)\n",
      "\n",
      "CORRECTNESS:\n",
      "без постстратификации: 95.0%\tс постстратификацией: 78.0% \n",
      "\n",
      "POWER:\n",
      "без постстратификации: 90.0%\tс постстратификацией: 97.0% \n"
     ]
    },
    {
     "data": {
      "image/png": "[encoded data removed]",
      "text/plain": [
       "<Figure size 470x427 with 1 Axes>"
      ]
     },
     "metadata": {},
     "output_type": "display_data"
    }
   ],
   "source": [
    "compare_power_correctness_posstratified(shop_metrics_old, 'cart_added_cnt', n=100)"
   ]
  },
  {
   "cell_type": "markdown",
   "metadata": {
    "id": "HsoX5OY59H_s"
   },
   "source": [
    "Корректность снижается c 97% до 83%, что может указывать на увеличение вероятности ложных срабатываний после постстратификации. Постстратификация могла внести искажения или недостаточно хорошо учесть групповые различия, что снизило способность теста правильно интерпретировать отсутствие эффекта.\n",
    "\n",
    "Постстратификация слегка увеличила мощность c 94% до 98%, что говорит о лучшей способности обнаруживать реальные различия между группами после учета пола и возрастных групп."
   ]
  },
  {
   "cell_type": "markdown",
   "metadata": {},
   "source": [
    "**Вывод:** Постстратификация эффективна, если группы пола и возраста значимо влияют на метрику. Если их влияние минимально, постстратификация может вносить лишний шум, снижая корректность."
   ]
  }
 ],
 "metadata": {
  "colab": {
   "provenance": []
  },
  "kernelspec": {
   "display_name": "Python 3 (ipykernel)",
   "language": "python",
   "name": "python3"
  },
  "language_info": {
   "codemirror_mode": {
    "name": "ipython",
    "version": 3
   },
   "file_extension": ".py",
   "mimetype": "text/x-python",
   "name": "python",
   "nbconvert_exporter": "python",
   "pygments_lexer": "ipython3",
   "version": "3.12.4"
  }
 },
 "nbformat": 4,
 "nbformat_minor": 4
}
